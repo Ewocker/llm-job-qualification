{
 "cells": [
  {
   "metadata": {
    "ExecuteTime": {
     "end_time": "2025-02-12T11:03:37.378697Z",
     "start_time": "2025-02-12T11:03:36.340470Z"
    }
   },
   "cell_type": "code",
   "source": "!ollama pull deepseek-r1:1.5b",
   "id": "4c0cd6287deb0c2e",
   "outputs": [
    {
     "name": "stdout",
     "output_type": "stream",
     "text": [
      "\u001B[?25lpulling manifest ⠋ \u001B[?25h\u001B[?25l\u001B[2K\u001B[1Gpulling manifest ⠙ \u001B[?25h\u001B[?25l\u001B[2K\u001B[1Gpulling manifest ⠹ \u001B[?25h\u001B[?25l\u001B[2K\u001B[1Gpulling manifest ⠸ \u001B[?25h\u001B[?25l\u001B[2K\u001B[1Gpulling manifest ⠼ \u001B[?25h\u001B[?25l\u001B[2K\u001B[1Gpulling manifest ⠴ \u001B[?25h\u001B[?25l\u001B[2K\u001B[1Gpulling manifest ⠦ \u001B[?25h\u001B[?25l\u001B[2K\u001B[1Gpulling manifest ⠧ \u001B[?25h\u001B[?25l\u001B[2K\u001B[1Gpulling manifest \r\n",
      "pulling aabd4debf0c8... 100% ▕████████████████▏ 1.1 GB                         \r\n",
      "pulling 369ca498f347... 100% ▕████████████████▏  387 B                         \r\n",
      "pulling 6e4c38e1172f... 100% ▕████████████████▏ 1.1 KB                         \r\n",
      "pulling f4d24e9138dd... 100% ▕████████████████▏  148 B                         \r\n",
      "pulling a85fe2a2e58e... 100% ▕████████████████▏  487 B                         \r\n",
      "verifying sha256 digest \r\n",
      "writing manifest \r\n",
      "success \u001B[?25h\r\n"
     ]
    }
   ],
   "execution_count": 24
  },
  {
   "metadata": {
    "ExecuteTime": {
     "end_time": "2025-02-13T04:26:30.296873Z",
     "start_time": "2025-02-13T04:26:30.290445Z"
    }
   },
   "cell_type": "code",
   "source": [
    "# imports\n",
    "\n",
    "import os\n",
    "import requests\n",
    "from bs4 import BeautifulSoup\n",
    "from IPython.display import Markdown, display\n",
    "from openai import OpenAI\n",
    "from dotenv import load_dotenv\n"
   ],
   "id": "77e426305a3df5c",
   "outputs": [],
   "execution_count": 47
  },
  {
   "metadata": {
    "ExecuteTime": {
     "end_time": "2025-02-13T04:26:30.682227Z",
     "start_time": "2025-02-13T04:26:30.650522Z"
    }
   },
   "cell_type": "code",
   "source": [
    "HOST = \"http://localhost:11434\"\n",
    "llm = OpenAI(base_url=f'{HOST}/v1', api_key='ollama')\n",
    "HEADERS = {\"Content-Type\": \"application/json\"}\n",
    "\n",
    "MODEL_DEEPSEEK = \"deepseek-r1:1.5b\"\n",
    "MODEL_LLAMA = \"llama3.2\"\n",
    "MODEL_GPT4O = \"gpt-4o\"\n",
    "MODEL_GPT4O_MINI = \"gpt-4o-mini\""
   ],
   "id": "c3716b15d5441d5",
   "outputs": [],
   "execution_count": 48
  },
  {
   "metadata": {
    "ExecuteTime": {
     "end_time": "2025-02-13T04:26:31.293387Z",
     "start_time": "2025-02-13T04:26:31.209660Z"
    }
   },
   "cell_type": "code",
   "source": [
    "# A class to represent a Webpage\n",
    "# If you're not familiar with Classes, check out the \"Intermediate Python\" notebook\n",
    "\n",
    "# Some websites need you to use proper headers when fetching them:\n",
    "headers = {\n",
    " \"User-Agent\": \"Mozilla/5.0 (Windows NT 10.0; Win64; x64) AppleWebKit/537.36 (KHTML, like Gecko) Chrome/117.0.0.0 Safari/537.36\"\n",
    "}\n",
    "\n",
    "class Website:\n",
    "    def __init__(self, url):\n",
    "        \"\"\"\n",
    "        Create this Website object from the given url using the BeautifulSoup library\n",
    "        \"\"\"\n",
    "        self.url = url\n",
    "        response = requests.get(url, headers=headers)\n",
    "        soup = BeautifulSoup(response.content, 'html.parser')\n",
    "        self.title = soup.title.string if soup.title else \"No title found\"\n",
    "        for irrelevant in soup.body([\"script\", \"style\", \"img\", \"input\"]):\n",
    "            irrelevant.decompose()\n",
    "        self.text = soup.body.get_text(separator=\"\\n\", strip=True)"
   ],
   "id": "2e64093434b2ad50",
   "outputs": [],
   "execution_count": 49
  },
  {
   "metadata": {
    "ExecuteTime": {
     "end_time": "2025-02-13T04:26:31.720378Z",
     "start_time": "2025-02-13T04:26:31.715149Z"
    }
   },
   "cell_type": "code",
   "source": [
    "from selenium import webdriver\n",
    "from selenium.webdriver.chrome.service import Service\n",
    "from selenium.webdriver.chrome.options import Options\n",
    "from selenium.webdriver.support.ui import WebDriverWait\n",
    "from selenium.webdriver.support import expected_conditions as EC\n",
    "from selenium.webdriver.common.by import By\n",
    "from webdriver_manager.chrome import ChromeDriverManager\n",
    "\n",
    "class JSWebsite:\n",
    "    url: str\n",
    "    title: str\n",
    "    text: str\n",
    "\n",
    "    def __init__(self, url):\n",
    "        self.url = url\n",
    "\n",
    "        options = Options()\n",
    "\n",
    "        options.add_argument(\"--headless\")  # Run in headless mode\n",
    "        options.add_argument(\"--no-sandbox\")\n",
    "        options.add_argument(\"--disable-dev-shm-usage\")\n",
    "\n",
    "        # service = Service(PATH_TO_CHROME_DRIVER)\n",
    "        service = Service(ChromeDriverManager().install())\n",
    "        driver = webdriver.Chrome(service=service, options=options)\n",
    "        driver.get(url)\n",
    "\n",
    "        # input(\"Please complete the verification in the browser and press Enter to continue...\")\n",
    "        # time.sleep(5)  # Wait for the page to load completely\n",
    "        WebDriverWait(driver, 10).until(\n",
    "            EC.presence_of_element_located((By.TAG_NAME, \"body\"))\n",
    "        )\n",
    "\n",
    "        page_source = driver.page_source\n",
    "        driver.quit()\n",
    "\n",
    "        soup = BeautifulSoup(page_source, 'html.parser')\n",
    "        self.title = soup.title.string if soup.title else \"No title found\"\n",
    "        for irrelevant in soup([\"script\", \"style\", \"img\", \"input\", \"nav\", \"footer\", \"header\"]):\n",
    "            irrelevant.decompose()\n",
    "        self.text = soup.get_text(separator=\"\\n\", strip=True)"
   ],
   "id": "b38dfdf1f52a8732",
   "outputs": [],
   "execution_count": 50
  },
  {
   "metadata": {
    "ExecuteTime": {
     "end_time": "2025-02-13T04:26:32.258534Z",
     "start_time": "2025-02-13T04:26:32.256381Z"
    }
   },
   "cell_type": "code",
   "source": [
    "# Define our system prompt - you can experiment with this later, changing the last sentence to 'Respond in markdown in Spanish.\"\n",
    "system_prompt = \"\"\"You are an AI assistant designed to evaluate an applicant's resume against a given job posting to determine their fit for the role. Your response should:\n",
    "1. Provide a structured analysis\n",
    "   - List 3 reasons why the applicant is a good fit for the job.\n",
    "   - List 3 reasons why the applicant may not be a good fit for the job.\n",
    "2. Ignore irrelevant content\n",
    "   - Exclude navigation-related or non-informative text from both the job posting and the resume.\n",
    "3. Score the applicant's fit\n",
    "   - Assign a fit score between 0 and 100, where:\n",
    "     - 100 = Perfect fit\n",
    "     - 0 = No match\n",
    "   - The score should be based on skills, experience, and qualifications relative to the job description.\n",
    "   - Consider years of experience as a factor but not as a strict requirement (e.g., someone slightly below the experience requirement may still be a strong candidate).\n",
    "   - Be very strict about if applicants have the required skills or relevant experience.\n",
    "   - A score of 40 or below indicates a poor fit.\n",
    "   - A score of 60 or above indicates a acceptable fit.\n",
    "   - A score of 80 or above indicates a strong fit.\n",
    "4. Provide Resume Improvement Suggestions\n",
    "   - Offer 3 specific and actionable suggestions to improve the applicant’s resume.\n",
    "   - Focus on aligning their resume better with the job posting by:\n",
    "     - Highlighting relevant skills or projects.\n",
    "     - Adjusting wording to match industry terms.\n",
    "     - Emphasizing transferable experience.\n",
    "5. Format the response in Markdown\n",
    "   - Ensure readability with headers, bullet points, and clear separation of sections.\n",
    "The Example Response Format should be in Markdown, using the default template below:\n",
    "\n",
    "## Applicant Fit Analysis\n",
    "\n",
    "Score: 75/100\n",
    "\n",
    "### ✅ Strengths (Good Fit)\n",
    "- Bullet point 1\n",
    "- Bullet point 2\n",
    "- Bullet point 3\n",
    "\n",
    "### ❌ Weaknesses (Possible Gaps)\n",
    "- Bullet point 1\n",
    "- Bullet point 2\n",
    "- Bullet point 3\n",
    "\n",
    "### ✍️ Resume Improvement Suggestions\n",
    "1. Suggestion 1\n",
    "2. Suggestion 2\n",
    "3. Suggestion 3\n",
    "\"\"\""
   ],
   "id": "619c396ae8a923fa",
   "outputs": [],
   "execution_count": 51
  },
  {
   "metadata": {
    "ExecuteTime": {
     "end_time": "2025-02-13T04:26:32.840132Z",
     "start_time": "2025-02-13T04:26:32.838197Z"
    }
   },
   "cell_type": "code",
   "source": [
    "def user_prompt_for(resume, job_post_url):\n",
    "    job_post = JSWebsite(job_post_url)\n",
    "    user_prompt = f\"Given the applicant profile and job post; \\n\"\n",
    "    user_prompt += f\"Job Post: {job_post.text}\\n\"\n",
    "    user_prompt += f\"Resume: {resume}\\n\"\n",
    "    return user_prompt"
   ],
   "id": "15c59466c614b921",
   "outputs": [],
   "execution_count": 52
  },
  {
   "metadata": {
    "ExecuteTime": {
     "end_time": "2025-02-13T04:26:33.432656Z",
     "start_time": "2025-02-13T04:26:33.430701Z"
    }
   },
   "cell_type": "code",
   "source": [
    "# a python notebook vbox for uploading pdf files\n",
    "from PyPDF2 import PdfReader\n",
    "\n",
    "def read_pdf(path):\n",
    "    text = \"\"\n",
    "    with open(path, 'rb') as file:\n",
    "        reader = PdfReader(file)\n",
    "        for page in reader.pages:\n",
    "            text += page.extract_text()\n",
    "    return text"
   ],
   "id": "6b290762842eba59",
   "outputs": [],
   "execution_count": 53
  },
  {
   "metadata": {
    "ExecuteTime": {
     "end_time": "2025-02-13T04:26:38.919938Z",
     "start_time": "2025-02-13T04:26:33.937896Z"
    }
   },
   "cell_type": "code",
   "source": [
    "yuan_resume = read_pdf('/Users/yualin/Desktop/Dropbox/資料/Resume/Resume Jan 30 2025.pdf')\n",
    "# Let's try one out\n",
    "genstudio_job_post_url = \"https://adobe.wd5.myworkdayjobs.com/external_experienced/job/San-Jose/Software-Development-Engineer_R152283\"\n",
    "yuan_genstudio_prompt = user_prompt_for(yuan_resume, genstudio_job_post_url)"
   ],
   "id": "16f29c81ef9217a0",
   "outputs": [],
   "execution_count": 54
  },
  {
   "metadata": {
    "ExecuteTime": {
     "end_time": "2025-02-13T04:26:38.928735Z",
     "start_time": "2025-02-13T04:26:38.926194Z"
    }
   },
   "cell_type": "code",
   "source": "yuan_genstudio_prompt",
   "id": "3ee8548e4209df1c",
   "outputs": [
    {
     "data": {
      "text/plain": [
       "\"Given the applicant profile and job post; \\nJob Post: \\nResume: YU-AN LIN\\nFull Stack Software Engineer\\nKubernetes AdministratorUniversity of California, Santa Cruz\\nMajor in Computer Science B.S.\\nSep 2014 - Mar 2018\\nGPA 3.81\\nEXPERIENCEchockerlin+resume@gmail.com\\nPage 1 / 2https://www.linkedin.com/in/yu-an-lin-19b94010b\\nData Services - Dev Lead\\n◦Led a team of five engineers to develop a data platform for an event-driven system on AEM author instances.\\n◦Designed and implemented custom ETL pipelines to aggregate data from multiple platforms into a Snowflake data warehouse.\\n◦Developed and integrated Sling filters to intercept HTTP events in AEM, enabling real-time user event generation.\\nAEM Reporting Service - Distributed System\\n◦Core maintainer of 5 Java Springboot microservices connected via Event-driven Kafka pipeline to support Adobe AEM statistics \\ndata and reporting APIs\\n◦Utilized Azure Data Explorer for storing user behavior events, CosmosDB for reporting schema, and Azure Blob Storage for \\ngenerated reports\\n◦Implemented data migration with Azure Data Factory and designed rollup strategy using materialized views to enhance query \\nperformance\\n◦Developed React UI components with Adobe micro-frontend framework to display statistical data using data service API\\nContent Automation - Serverless OpenWhisk\\n◦Contributed to Node.js serverless stack for asset transformation using tools like ImageMagick, ffmpeg, and Azure Media Service\\nIndexing Performance Improvement - Jackrabbit Oak, MongoDB\\n◦Transformed single-process architecture to a multi-processing system in Jackrabbit Oak, achieving a 3 times speed improvement \\nin indexing large repositories\\n◦Analyzed and identified performance bottlenecks, implementing improvements such as replacing gzip compression with lz4 and \\noptimizing the operating system\\nProject Franklin - Vanilla JS, HTML, CSS\\n◦Contributed to the replacement of the RiteAid Elixir solution website in the Adobe Franklin VIP project using Vanilla JS, HTML, and \\nCSS\\n◦Achieved a perfect score of 100 in all Lighthouse metrics without relying on common UI frameworks \\n(https://www.elixirsolutions.com)Software Engineer - AEM Assets as a Cloud Service\\nAdobe, San Jose JUN 2021 - PRESENT\\nSecurity Leadership - Container & Kubernetes\\n◦Led team in security tasks encompassing container and Kubernetes security, infrastructure best practices, and CVE analysis\\n◦Implemented security measures and best practices to ensure robust container and Kubernetes environments\\nOpen Source & 3rd Party Integration - Kubernetes & CI/CD\\n◦Deployed open-source and 3rd-party services for Kubernetes and CI/CD, including Open Policy Agent, Cilium CNI, Grafana, \\nPrometheus, and more\\n◦Operated and administrated Kubernetes-based cloud infrastructure in AWS\\nCI/CD Pipeline Implementation\\n◦Engineered a customized CI/CD pipeline with Jenkins for CI, Golang for CD, and supporting tools in Python, Groovy, and NodeJS\\n◦Contributed to the company's microservices transformation by building self-managed Kubernetes clusters using kops on AWSSoftware Engineer - Cloud Infrastructure\\nProofpoint, Sunnyvale APR 2018 - JUN 2021\\nVue-Lodash\\nOpen Source\\nA Vue.js plugin.\\nLink - h ttps://www.npmjs.com/package/vue-lodash\\nPersonal Blog\\nOpen Source\\nLink - https://blog.ewocker.com\\nRepo - https://github.com/Ewocker/blog\\nInformation System Training Program\\nNational Taiwan \\nUniversity\\n•Unix System\\n•HTML+CSS+Bootstrap\\n•Javascript\\n•Php+MySQL2015 & 2016 SUMMERDesign and build Uniform QA Dashboard from scratch to replace existing old dashboard with 3 key features using with Vue.js, Node.js, \\nRedis, Elasticsearch, Jenkins for CI/CD, and Docker\\n1.Installation Tool\\n•Developed VM installation tool for PFPT security product PPS\\n•Provided detailed VM info, progress snapshots for QA testing\\n2.Summary Tool\\n•Engineered summarization tool for PPS test results\\n•Integrated SCM change history, tag-based result search, and data visualizations\\n3.Real-Time Execution Tool\\n•Designed real-time execution tool for dynamic test updates\\n•Enabled test machine resizing and historical result comparisons\\nExtended Grafana KairosDB Plugin\\n◦Enhanced plugin for multi-cluster data querying and merging\\n◦Fixed bugs to improve stability\\nSoftware Delivery UI - React Dashboard\\n◦Developed React dashboard for secrets/configs in Proofpoint services\\n◦Integrated CI/CD pipeline features for streamlined software deliveryMAR 2017 - MAR 2018\\nBuild serverless applications on GCP CloudRun with FireStore as backend storage solution\\nCollaborate with UCSC as a sponsor party for senior CS students project-based course since 2018 every quarter\\n◦Design project, manage scope, and teach students to contribute to project.\\n◦Partner with local farms and sustainability organizations to build financially scallable data driven agriculture IOT device\\nReference\\n◦Official Site -   http://sproutlabs.io\\n◦Reference - h  ttps://slab.sites.ucsc.edu/sproutlabsioLead Software Engineer\\nSproutLabs LLC, Santa Cruz 2017 - PRESENT\\nTRAINING PROGRAM PERSONAL PROJECTSoftware QA Engineer Intern\\nProofpoint, Sunnyvale\\nPage 2 / 2Kubernetes Development - Golang\\n◦Developed Kubernetes controllers and operational services using Golang for effective cluster management\\n◦Conducted evaluations for Container Networking Interface (CNI) solutions, including Cilium, Calico, and AWS CNI\\nCentralized Logging Solution\\n◦Established a centralized logging solution with Fluentd Cloudwatch for efficient log management in the cloud environment\\n\""
      ]
     },
     "execution_count": 55,
     "metadata": {},
     "output_type": "execute_result"
    }
   ],
   "execution_count": 55
  },
  {
   "metadata": {
    "ExecuteTime": {
     "end_time": "2025-02-13T04:26:39.007991Z",
     "start_time": "2025-02-13T04:26:39.006108Z"
    }
   },
   "cell_type": "code",
   "source": [
    "messages = [\n",
    "    {\"role\": \"system\", \"content\": system_prompt},\n",
    "    {\"role\": \"user\", \"content\": yuan_genstudio_prompt}\n",
    "]"
   ],
   "id": "9b9c4c9f39b99ea1",
   "outputs": [],
   "execution_count": 56
  },
  {
   "metadata": {
    "ExecuteTime": {
     "end_time": "2025-02-13T04:26:39.941210Z",
     "start_time": "2025-02-13T04:26:39.924928Z"
    }
   },
   "cell_type": "code",
   "source": "llm = OpenAI(base_url='http://localhost:11434/v1', api_key='ollama')",
   "id": "352299e6002aebe4",
   "outputs": [],
   "execution_count": 57
  },
  {
   "metadata": {
    "ExecuteTime": {
     "end_time": "2025-02-12T11:03:57.274486Z",
     "start_time": "2025-02-12T11:03:42.242484Z"
    }
   },
   "cell_type": "code",
   "source": [
    "response = llm.chat.completions.create(\n",
    "    model=MODEL_DEEPSEEK,\n",
    "    messages=messages\n",
    ")\n",
    "display(Markdown(response.choices[0].message.content))"
   ],
   "id": "f6689313ddc5984d",
   "outputs": [
    {
     "data": {
      "text/plain": [
       "<IPython.core.display.Markdown object>"
      ],
      "text/markdown": "<think>\nAlright, so I need to analyze why Yu-Yan Lin is a good fit for the full-stack software engineer role at Proofpoint. Let me start by understanding the job posting and looking through Yu-Yan's resume.\n\nFirst, the position mentions a full-stack software engineer role at Proofpoint as being the leader developer of their serverless application using Java and Golang with Kubernetes. They have experience in leading teams, implementing security measures, and optimizing system performance. This suggests they're highly experienced in building scalable applications, especially on Kubernetes, which aligns well with the company's needs.\n\nLooking at their resume, Yu-Yan has several relevant entries. They led a team of five engineers to develop a distributed data platform for AEM instances on AEM author instances, which directly ties into the full-stack role mentioned in the job posting. Their technical skills include ETL pipelining, Sling filters for event interception, and building microservices across multiple platforms. This shows they can manage large-scale systems effectively.\n\nAlso, their experience with React UI components using Adobe Micro-frontend suggests they have JavaScript proficiency, which is relevant for server-side applications often part of full-stack environments. Their hands-on approach in both data processing and container security makes them well-rounded in different programming languages like Java and the new Go language.\n\nThey mentioned being involved in developing distributed systems on Kubernetes, leveraging Azure Data Explorer, CosmosDB, and Blob Storage. This definitely shows expertise in cloud engineering and data storage solutions, which are key components of Kubernetes and Proofpoint's operations.\n\nAdditionally, they were involved in maintaining performance improvements by optimizing indexes, scaling data models with materialized views, and migrating from zip files to cube volumes. This indicates strong problem-solving skills and a focus on system optimization, both crucial for a full-stack role at Proofpoint.\n\nTheir experience with UI/UX tools like Vue.js, React, and Angular further supports their ability to manage development pipelines across different platforms, which is another important aspect of the job description.\n\nOverall, Yu-Yan's extensive experience in large-scale systems, strong technical skills in relevant programming languages, effective team leadership in both data processing and security aspects, and a deep focus on system optimization aligns well with the full-stack software engineer role at Proofpoint. Their practical experience with Kubernetes, including leading distributed applications via AWS, also highlights their ability to lead complex teams in managing modern cloud systems.\n</think>\n\nBased on the detailed analysis of Yu-Yan Lin's resume and the job posting, here is a step-by-step summary of why/he is a good fit for the full-stack software engineer role at Proofpoint:\n\n---\n\n### **Step 1: Understanding the Role Requirements**\n- **Focus Areas:** \n  - Building a distributed data platform.\n  - Providing API documentation.\n  - Optimizing performance metrics.\n  - Managing security and system integrity.\n- **Expectations:**\n  - Ability to build large-scale distributed systems using Kubernetes.\n  - Strong practical experience in developing serverless applications.\n  - Proven ability to manage complex CI/CD pipelines across multiple platforms.\n\n### **Step 2: Reviewing Yu-Yan Lin's Experience and Relevant Skills**\n- **Years of Experience:**\n  - Lead team: 17+ years (from Proofpoint's establishment until current position).\n- **Key Responsibilities:**\n  - Led team size of five to develop distributed data platform for AEM instances.\n  - Developed APIs documentation ensuring security, integrity, and compliance.\n  - Successfully transitioned internal API from zip files to cube volumes while optimizing performance metrics.\n  - Maintained strong knowledge of both Java and Go (new language) across multiple platforms.\n- **Technical Proficiency:**\n  - ETL pipelining using Sling filters for event interception.\n  - Built microservices on AWS clusters with Kubernetes, ensuring scale, resilience, and security.\n  - Developed Golang controllers and operational services to manage a distributed system, leveraging Go for high-performance serverless computing.\n    - Conducted container networking interface evaluations (CNI) solutions such as Cilumbo, Calico, and AWS CNI.\n  - Built frontend components with React components using Vue.js, Angular, or Angular React.\n    - Designed UI/UX tools for API development, user interfaces on iOS devices, and mobile optimization of web applications.\n\n### **Step 3: Aligning Experience with the Role**\n- The job posting emphasizes:\n  - Building a data-driven agricultural IOT device (as a personal project).\n  - Leading a client's serverless architecture using Golang and Kubernetes.\n  - Managing distributed systems on AWS, specifically Proofpoint's cloud infrastructure.\n- **Appropriate Areas of Focus:**\n  - Building end-to-end distributed systems across different platforms and languages (Java to Golang) is highly relevant for the full-stack role at Proofpoint.\n  - Problem-solving skills demonstrated through API development and container security are essential for managing secure and scalable applications.\n\n### **Step 4: Highlighting the F focuses in Depth**\n1. **Leadership and Team Management:**  \n   - Lead a distributed system with up-to-date cloud infrastructure, demonstrating strong leadership qualities within Proofpoint's team of engineers.\n2. **Kubernetes Mastery:**  \n   - Worked with Kubernetes for container orchestration (Golang controllers), distributed systems, and microservices, aligning with the full-stack requirement of managing modern cloud environments at Proofpoint.\n3. **Optimization and Scalability:**  \n   - Developed high-performing microservices systems using Kubernetes and optimizing system performance to handle increasing demands.\n\n### **Step 5: Final Thoughts**\n- Yu-Yan Lin brings a proven ability to lead cross-platform distributed systems, optimize performance metrics, and manage security in cloud environments.\n- Their technical proficiency with both Java and Go across multiple platforms aligns perfectly with the full-stack engineer role at Proofpoint.\n- While the job posting emphasizes API development and system-level security, their experience with API documentation further reinforces this focus.\n\n### **Conclusion:**\nYu-Yan Lin is highly qualified to serve as a full-stack software engineer for Proofpoint due to their extensive hands-on experience across distributed systems, cloud platforms (AWS), optimization techniques (Golang, Python), container orchestration (Kubernetes), and security practices. Their ability to effectively manage complex CI/CD pipelines, work with different programming languages, and collaborate in an organized team aligns perfectly with the requirements of Proofpoint's role."
     },
     "metadata": {},
     "output_type": "display_data"
    }
   ],
   "execution_count": 36
  },
  {
   "metadata": {
    "ExecuteTime": {
     "end_time": "2025-02-12T11:04:08.530216Z",
     "start_time": "2025-02-12T11:03:57.306832Z"
    }
   },
   "cell_type": "code",
   "source": [
    "response = llm.chat.completions.create(\n",
    "    model=MODEL_LLAMA,\n",
    "    messages=messages\n",
    ")\n",
    "display(Markdown(response.choices[0].message.content))"
   ],
   "id": "647311f9a9e8c67a",
   "outputs": [
    {
     "data": {
      "text/plain": [
       "<IPython.core.display.Markdown object>"
      ],
      "text/markdown": "## Applicant Fit Analysis\n\nScore: 85/100\n\n### ✅ Strengths (Good Fit)\n- **Expertise in Kubernetes Administration**: Yu-An Lin has significant experience in administering Kubernetes, including designing and implementing custom ETL pipelines and developing Sling filters for real-time user event generation.\n- **Cloud Security Leadership**: With extensive leadership roles in security tasks encompassing container and Kubernetes security, Lin demonstrates a strong understanding of cloud security practices.\n- **Full Stack Development Skills**: As a Full Stack Software Engineer, Yu-An Lin has expertise in various programming languages including Java, Node.js, Vue.js, and Golang.\n\n### ❌ Weaknesses (Possible Gaps)\n- **Limited Industry Experience**: Although Lin has worked in the Adobe industry for over two years, most of his experience comes from a single company (Adobe).\n- **Variable Work Histories**: His work history includes several roles, which might be seen as a lack of commitment or stability by some employers.\n- **Unclear Career Progression**: Limited details on career advancement and promotions within companies could indicate slower growth or unclear paths.\n\n### 💡 Resume Improvement Suggestions\n1. Consider adding more specific metrics or achievements in bullet points to make it easier for readers to visualize your contributions.\n2. Emphasize transferable experience by explicitly stating how skills gained in one role can be applied to others.\n3. Add quantifiable numbers to help quantify the impact of projects you worked on and results achieved.\n\n#### Updated Resume Example:\n**Data Services - Dev Lead**\n- **Real-time User Event Generation**: Developed custom Sling filters for AEM, resulting in a 300% increase in real-time user data collection.\n...\n\nThis will allow for better tracking of progress, accomplishments, and measurable impact. The suggestions listed can serve to improve clarity, metrics, and potential career progression.\n\n```"
     },
     "metadata": {},
     "output_type": "display_data"
    }
   ],
   "execution_count": 37
  },
  {
   "metadata": {
    "ExecuteTime": {
     "end_time": "2025-02-13T04:26:47.529814Z",
     "start_time": "2025-02-13T04:26:47.523999Z"
    }
   },
   "cell_type": "code",
   "source": [
    "load_dotenv(override=True)\n",
    "api_key = os.getenv('OPENAI_API_KEY')"
   ],
   "id": "4f481d541a1557da",
   "outputs": [],
   "execution_count": 58
  },
  {
   "metadata": {
    "ExecuteTime": {
     "end_time": "2025-02-13T04:26:47.875038Z",
     "start_time": "2025-02-13T04:26:47.838121Z"
    }
   },
   "cell_type": "code",
   "source": "openai = OpenAI()",
   "id": "8074d5e37f67745c",
   "outputs": [],
   "execution_count": 59
  },
  {
   "metadata": {
    "ExecuteTime": {
     "end_time": "2025-02-13T04:26:54.486506Z",
     "start_time": "2025-02-13T04:26:48.310136Z"
    }
   },
   "cell_type": "code",
   "source": [
    "response = openai.chat.completions.create(\n",
    "    model=MODEL_GPT4O_MINI,\n",
    "    messages=messages\n",
    ")\n",
    "display(Markdown(response.choices[0].message.content))"
   ],
   "id": "8c514bcc88496df2",
   "outputs": [
    {
     "data": {
      "text/plain": [
       "<IPython.core.display.Markdown object>"
      ],
      "text/markdown": "## Applicant Fit Analysis\n\nScore: 85/100\n\n### ✅ Strengths (Good Fit)\n- **Extensive Technical Skills**: The applicant demonstrates strong technical competencies in Kubernetes administration, which is highly sought after in the job posting. Their experience with security measures in Kubernetes environments is also valuable.\n- **Relevant Experience**: The applicant has experience in building and maintaining data pipelines and cloud infrastructure, closely aligning with the job's expectations concerning data services and cloud integration.\n- **Leadership and Team Management**: Experience leading teams and projects is a plus, as the role may involve collaboration and leadership within engineering teams. Their ability to lead a team to develop a data platform showcases leadership in technical projects.\n\n### ❌ Weaknesses (Possible Gaps)\n- **Limited Frontend Development Experience**: While the applicant has some experience with React and front-end technologies, the job posting may require more depth in UI/UX design capabilities that are not fully demonstrated in the resume.\n- **Years of Experience in Specific Technologies**: The candidate shows strong experience overall but may lack some specific years of experience if the job posting mentions a preference for more comprehensive experience in particular technologies, such as advanced cloud solutions or specific frameworks.\n- **Job-Specific Metrics or Achievements**: The resume does not quantify achievements or demonstrate metrics-driven success in previous roles, which could strengthen their application by showcasing impact.\n\n### ✍️ Resume Improvement Suggestions\n1. **Highlight Quantifiable Achievements**: Include metrics or specific outcomes for each project or responsibility, such as performance improvements, revenue increases, or successful project completions. For instance, quantify how much faster the indexing system was after their improvement.\n2. **Expand on Frontend Experience**: Elaborate on frontend projects or tasks, emphasizing experience with UI/UX design or showcasing any leadership roles in frontend teams to better match the job description's requirements for this skill set.\n3. **Standardize Terminology**: Use consistent language and terminology from the job posting throughout the resume to make qualifications clearer, such as industry-standard terms for cloud services or data handling to align with the wording found in the job description."
     },
     "metadata": {},
     "output_type": "display_data"
    }
   ],
   "execution_count": 60
  },
  {
   "metadata": {
    "ExecuteTime": {
     "end_time": "2025-02-13T04:26:54.524213Z",
     "start_time": "2025-02-13T04:26:54.514483Z"
    }
   },
   "cell_type": "code",
   "source": [
    "# UI for upload file\n",
    "# The job posting and the CV are required to define the user prompt\n",
    "# The user will input the job posting as text in a box here\n",
    "# The user will upload the CV in PDF format, from which the text will be extracted\n",
    "\n",
    "# You might need to install PyPDF2 via pip if it's not already installed\n",
    "# !pip install PyPDF2\n",
    "\n",
    "import io\n",
    "import time\n",
    "import requests\n",
    "import PyPDF2\n",
    "from bs4 import BeautifulSoup\n",
    "from ipywidgets import Text, FileUpload, Button, VBox, HTML\n",
    "\n",
    "# Create widgets for job posting URL input\n",
    "job_posting_url = Text(\n",
    "    placeholder='Enter the job posting URL here...',\n",
    "    description='Job URL:',\n",
    "    disabled=False,\n",
    "    layout={'width': '600px'}\n",
    ")\n",
    "\n",
    "# File upload for CV\n",
    "cv_upload = FileUpload(\n",
    "    accept='.pdf',  # Only accept PDF files\n",
    "    multiple=False,  # Only allow single file selection\n",
    "    description='Upload CV (PDF)'\n",
    ")\n",
    "\n",
    "# Status display\n",
    "status = HTML(value=\"<b>Status:</b> Waiting for inputs...\")\n",
    "\n",
    "# Submit Button\n",
    "submit_button = Button(description='Submit', button_style='success')\n",
    "\n",
    "# Dictionary to store extracted data\n",
    "for_user_prompt = {\n",
    "    'job_posting': '',\n",
    "    'cv_text': ''\n",
    "}\n",
    "\n",
    "# Function to process PDF and extract text\n",
    "def extract_cv_text(uploaded_file):\n",
    "    print(\"Extracting CV text...\")\n",
    "    try:\n",
    "        content = io.BytesIO(uploaded_file['content'])\n",
    "        print(\"Reading PDF content...\")\n",
    "        pdf_reader = PyPDF2.PdfReader(content)\n",
    "        print(\"Extracting text from PDF...\")\n",
    "        cv_text = \"\\n\".join([page.extract_text() for page in pdf_reader.pages if page.extract_text()])\n",
    "        print(\"Text extraction complete.\")\n",
    "        return cv_text if cv_text else \"xxxxError extracting text from CV.\"\n",
    "    except Exception as e:\n",
    "        return f\"xxxxError processing PDF: {str(e)}\"\n",
    "\n",
    "# Function to handle submission\n",
    "def submit_action(b):\n",
    "    print(\"Submit button clicked.\")\n",
    "    status.value = \"<b>Status:</b> Processing...\"\n",
    "\n",
    "    # Process job posting\n",
    "    job_url = job_posting_url.value.strip()\n",
    "    status.value = f\"<b>Status:</b> URL is {job_url}...\"\n",
    "\n",
    "    for_user_prompt['job_posting'] = job_url\n",
    "\n",
    "    # Process CV\n",
    "    status.value = f\"<b>Status:</b> Checking CV...\"\n",
    "    if cv_upload.value:\n",
    "        status.value = f\"<b>Status:</b> CV uploaded fine...\"\n",
    "        uploaded_file = cv_upload.value[0]\n",
    "        status.value = f\"<b>Status:</b> Extracting CV...\"\n",
    "        for_user_prompt['cv_text'] = extract_cv_text(uploaded_file)\n",
    "        if \"xxxxError\" in for_user_prompt['cv_text']:\n",
    "            status.value = f\"<b>Status:</b> {for_user_prompt['cv_text']}\"\n",
    "            return\n",
    "        status.value = f\"<b>Status:</b> CV extracted successfully!\"\n",
    "    else:\n",
    "        status.value = \"<b>Status:</b> Please upload a CV before submitting.\"\n",
    "        return\n",
    "\n",
    "    # Final status update\n",
    "    status.value = \"<b>Status:</b> Job posting and CV submitted successfully!\"\n",
    "\n",
    "    # Print extracted data (for debugging)\n",
    "    print(\"Extracted Job Posting Text:\", for_user_prompt['job_posting'][:500])  # Show first 500 chars\n",
    "    print(\"Extracted CV Text:\", for_user_prompt['cv_text'][:500])\n",
    "\n",
    "\n",
    "# Attach submit action to button\n",
    "submit_button.on_click(submit_action)\n",
    "\n",
    "# Layout\n",
    "layout = VBox([\n",
    "    HTML(value=\"<h3>Input Job Posting URL and Upload CV</h3>\"),\n",
    "    job_posting_url,\n",
    "    cv_upload,\n",
    "    submit_button,\n",
    "    status\n",
    "])\n",
    "\n",
    "# Display the UI\n",
    "display(layout)\n"
   ],
   "id": "9c21685f6bafa557",
   "outputs": [
    {
     "data": {
      "text/plain": [
       "VBox(children=(HTML(value='<h3>Input Job Posting URL and Upload CV</h3>'), Text(value='', description='Job URL…"
      ],
      "application/vnd.jupyter.widget-view+json": {
       "version_major": 2,
       "version_minor": 0,
       "model_id": "7fe6eb28c5a8405c9b1efca417e47ab4"
      }
     },
     "metadata": {},
     "output_type": "display_data"
    }
   ],
   "execution_count": 61
  },
  {
   "metadata": {
    "ExecuteTime": {
     "end_time": "2025-02-13T04:27:33.540039Z",
     "start_time": "2025-02-13T04:27:22.809279Z"
    }
   },
   "cell_type": "code",
   "source": [
    "# Send to LLM openai\n",
    "# https://adobe.wd5.myworkdayjobs.com/external_experienced/job/San-Jose/Software-Development-Engineer_R152283\n",
    "messages = [\n",
    "    {\"role\": \"system\", \"content\": system_prompt},\n",
    "    {\"role\": \"user\", \"content\": user_prompt_for(for_user_prompt['cv_text'], for_user_prompt['job_posting'])}\n",
    "]\n",
    "response = openai.chat.completions.create(\n",
    "    model=MODEL_GPT4O_MINI,\n",
    "    messages=messages\n",
    ")\n",
    "display(Markdown(response.choices[0].message.content))"
   ],
   "id": "9c92f162c5fcfb3d",
   "outputs": [
    {
     "data": {
      "text/plain": [
       "<IPython.core.display.Markdown object>"
      ],
      "text/markdown": "## Applicant Fit Analysis\n\nScore: 85/100\n\n### ✅ Strengths (Good Fit)\n- **Extensive Experience with Kubernetes**: The applicant has significant hands-on experience in Kubernetes and related security practices, which is likely essential for the job role.\n- **Strong Full Stack Skills**: The applicant has demonstrated experience in both front-end (React, Vanilla JS) and back-end (Java Springboot, Node.js) technologies, aligning well with a full stack position.\n- **Leadership and Team Management**: The applicant has led teams and initiatives, showcasing strong leadership skills that are beneficial for collaborative environments in software engineering.\n\n### ❌ Weaknesses (Possible Gaps)\n- **Limited Explicit Experience with Required Technologies**: Depending on the job's specific technology requirements, there may be gaps in experience with certain tools or frameworks that the company uses.\n- **Lack of Specific Metrics or Achievements in Recent Roles**: While the applicant lists responsibilities, more quantifiable achievements would enhance their profile (e.g., improved performance metrics, project completion success rates).\n- **Potential Gaps in Domain-Specific Knowledge**: Depending on the industry or domain focus of the job, there may be a lack of specific domain knowledge that is important for role effectiveness.\n\n### ✍️ Resume Improvement Suggestions\n1. **Highlight Quantifiable Achievements**: For each project or role listed, include specific metrics or outcomes achieved (e.g., percentage increase in performance, reduction in processing time) to strengthen the resume.\n2. **Align Wording with Job Description**: Review the job posting and incorporate keywords and phrases from the description directly into the resume to better match the industry's language and expectations.\n3. **Specify Relevant Technologies and Tools**: Clearly mention any specific frameworks, libraries, or tools relevant to the job posting (e.g., specific CI/CD tools, technologies used) to ensure strong alignment with the job requirements."
     },
     "metadata": {},
     "output_type": "display_data"
    }
   ],
   "execution_count": 62
  },
  {
   "metadata": {},
   "cell_type": "code",
   "outputs": [],
   "execution_count": null,
   "source": "",
   "id": "6c9098dceab5ea92"
  }
 ],
 "metadata": {
  "kernelspec": {
   "display_name": "Python 3",
   "language": "python",
   "name": "python3"
  },
  "language_info": {
   "codemirror_mode": {
    "name": "ipython",
    "version": 2
   },
   "file_extension": ".py",
   "mimetype": "text/x-python",
   "name": "python",
   "nbconvert_exporter": "python",
   "pygments_lexer": "ipython2",
   "version": "2.7.6"
  }
 },
 "nbformat": 4,
 "nbformat_minor": 5
}
